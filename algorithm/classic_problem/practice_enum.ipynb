{
 "cells": [
  {
   "cell_type": "code",
   "execution_count": 1,
   "metadata": {},
   "outputs": [],
   "source": [
    "from enum import Enum, auto"
   ]
  },
  {
   "cell_type": "code",
   "execution_count": 2,
   "metadata": {},
   "outputs": [],
   "source": [
    "## Enum을 상속하여 Nucleotide 클래스로 확장\n",
    "class Nucleotide(Enum):\n",
    "    A = auto()\n",
    "    C = auto()\n",
    "    G = auto()\n",
    "    T = auto()"
   ]
  },
  {
   "cell_type": "code",
   "execution_count": 3,
   "metadata": {},
   "outputs": [
    {
     "name": "stdout",
     "output_type": "stream",
     "text": [
      "Nucleotide.A\n",
      "1\n"
     ]
    }
   ],
   "source": [
    "print(Nucleotide.A)  ## Nucleotide.A\n",
    "print(Nucleotide.A.value)  ## 1"
   ]
  },
  {
   "cell_type": "code",
   "execution_count": 4,
   "metadata": {},
   "outputs": [
    {
     "name": "stdout",
     "output_type": "stream",
     "text": [
      "Nucleotide.A\n",
      "1\n",
      "Nucleotide.C\n",
      "2\n",
      "Nucleotide.G\n",
      "3\n",
      "Nucleotide.T\n",
      "4\n"
     ]
    }
   ],
   "source": [
    "## iteration\n",
    "for item in Nucleotide:\n",
    "    print(item)\n",
    "    print(item.value)"
   ]
  },
  {
   "cell_type": "code",
   "execution_count": 5,
   "metadata": {},
   "outputs": [
    {
     "ename": "TypeError",
     "evalue": "'>' not supported between instances of 'Nucleotide' and 'Nucleotide'",
     "output_type": "error",
     "traceback": [
      "\u001b[0;31m---------------------------------------------------------------------------\u001b[0m",
      "\u001b[0;31mTypeError\u001b[0m                                 Traceback (most recent call last)",
      "\u001b[0;32m<ipython-input-5-9349f809bf40>\u001b[0m in \u001b[0;36m<module>\u001b[0;34m\u001b[0m\n\u001b[1;32m      1\u001b[0m \u001b[0ma\u001b[0m \u001b[0;34m=\u001b[0m \u001b[0mNucleotide\u001b[0m\u001b[0;34m[\u001b[0m\u001b[0;34m'A'\u001b[0m\u001b[0;34m]\u001b[0m\u001b[0;34m\u001b[0m\u001b[0;34m\u001b[0m\u001b[0m\n\u001b[1;32m      2\u001b[0m \u001b[0mc\u001b[0m \u001b[0;34m=\u001b[0m \u001b[0mNucleotide\u001b[0m\u001b[0;34m[\u001b[0m\u001b[0;34m'C'\u001b[0m\u001b[0;34m]\u001b[0m\u001b[0;34m\u001b[0m\u001b[0;34m\u001b[0m\u001b[0m\n\u001b[0;32m----> 3\u001b[0;31m \u001b[0mprint\u001b[0m\u001b[0;34m(\u001b[0m\u001b[0ma\u001b[0m \u001b[0;34m>\u001b[0m \u001b[0mc\u001b[0m\u001b[0;34m)\u001b[0m  \u001b[0;31m## Error: TypeError '>' not supported\u001b[0m\u001b[0;34m\u001b[0m\u001b[0;34m\u001b[0m\u001b[0m\n\u001b[0m",
      "\u001b[0;31mTypeError\u001b[0m: '>' not supported between instances of 'Nucleotide' and 'Nucleotide'"
     ]
    }
   ],
   "source": [
    "a = Nucleotide['A']\n",
    "c = Nucleotide['C']\n",
    "print(a > c)  ## Error: TypeError '>' not supported"
   ]
  },
  {
   "cell_type": "code",
   "execution_count": 6,
   "metadata": {},
   "outputs": [],
   "source": [
    "## IntEnum을 통해 각 요소들의 비교 연산이 가능\n",
    "from enum import IntEnum\n",
    "\n",
    "class Nucleotide(IntEnum):\n",
    "    A = auto()\n",
    "    C = auto()\n",
    "    G = auto()\n",
    "    T = auto()"
   ]
  },
  {
   "cell_type": "code",
   "execution_count": 10,
   "metadata": {},
   "outputs": [
    {
     "name": "stdout",
     "output_type": "stream",
     "text": [
      "Nucleotide.A\n",
      "A\n",
      "1\n"
     ]
    }
   ],
   "source": [
    "print(Nucleotide.A)\n",
    "print(Nucleotide.A.name)\n",
    "print(Nucleotide.A.value)"
   ]
  },
  {
   "cell_type": "code",
   "execution_count": 11,
   "metadata": {},
   "outputs": [
    {
     "name": "stdout",
     "output_type": "stream",
     "text": [
      "Nucleotide.A\n",
      "Nucleotide.C\n",
      "Nucleotide.G\n",
      "Nucleotide.T\n"
     ]
    }
   ],
   "source": [
    "## iteration\n",
    "for item in Nucleotide:\n",
    "    print(item)"
   ]
  },
  {
   "cell_type": "code",
   "execution_count": 13,
   "metadata": {},
   "outputs": [
    {
     "name": "stdout",
     "output_type": "stream",
     "text": [
      "False\n",
      "True\n"
     ]
    }
   ],
   "source": [
    "## comparison\n",
    "a = Nucleotide(1)\n",
    "c = Nucleotide(2)\n",
    "print(a > c)\n",
    "print(a < c)"
   ]
  }
 ],
 "metadata": {
  "kernelspec": {
   "display_name": "Python 3",
   "language": "python",
   "name": "python3"
  },
  "language_info": {
   "codemirror_mode": {
    "name": "ipython",
    "version": 3
   },
   "file_extension": ".py",
   "mimetype": "text/x-python",
   "name": "python",
   "nbconvert_exporter": "python",
   "pygments_lexer": "ipython3",
   "version": "3.6.8"
  }
 },
 "nbformat": 4,
 "nbformat_minor": 2
}
