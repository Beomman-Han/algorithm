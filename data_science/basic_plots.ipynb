{
 "cells": [
  {
   "cell_type": "code",
   "execution_count": 2,
   "metadata": {},
   "outputs": [],
   "source": [
    "%matplotlib inline\n",
    "\n",
    "import pandas as pd"
   ]
  },
  {
   "cell_type": "code",
   "execution_count": 3,
   "metadata": {},
   "outputs": [
    {
     "data": {
      "text/html": [
       "<div>\n",
       "<style scoped>\n",
       "    .dataframe tbody tr th:only-of-type {\n",
       "        vertical-align: middle;\n",
       "    }\n",
       "\n",
       "    .dataframe tbody tr th {\n",
       "        vertical-align: top;\n",
       "    }\n",
       "\n",
       "    .dataframe thead th {\n",
       "        text-align: right;\n",
       "    }\n",
       "</style>\n",
       "<table border=\"1\" class=\"dataframe\">\n",
       "  <thead>\n",
       "    <tr style=\"text-align: right;\">\n",
       "      <th></th>\n",
       "      <th>KBS</th>\n",
       "      <th>MBC</th>\n",
       "      <th>SBS</th>\n",
       "      <th>TV CHOSUN</th>\n",
       "      <th>JTBC</th>\n",
       "      <th>Channel A</th>\n",
       "      <th>MBN</th>\n",
       "    </tr>\n",
       "  </thead>\n",
       "  <tbody>\n",
       "    <tr>\n",
       "      <th>2011</th>\n",
       "      <td>35.951</td>\n",
       "      <td>18.374</td>\n",
       "      <td>11.173</td>\n",
       "      <td>9.102</td>\n",
       "      <td>7.380</td>\n",
       "      <td>3.771</td>\n",
       "      <td>2.809</td>\n",
       "    </tr>\n",
       "    <tr>\n",
       "      <th>2012</th>\n",
       "      <td>36.163</td>\n",
       "      <td>16.022</td>\n",
       "      <td>11.408</td>\n",
       "      <td>8.785</td>\n",
       "      <td>7.878</td>\n",
       "      <td>5.874</td>\n",
       "      <td>3.310</td>\n",
       "    </tr>\n",
       "    <tr>\n",
       "      <th>2013</th>\n",
       "      <td>31.989</td>\n",
       "      <td>16.778</td>\n",
       "      <td>9.673</td>\n",
       "      <td>9.026</td>\n",
       "      <td>7.810</td>\n",
       "      <td>5.350</td>\n",
       "      <td>3.825</td>\n",
       "    </tr>\n",
       "    <tr>\n",
       "      <th>2014</th>\n",
       "      <td>31.210</td>\n",
       "      <td>15.663</td>\n",
       "      <td>9.108</td>\n",
       "      <td>9.440</td>\n",
       "      <td>7.490</td>\n",
       "      <td>5.776</td>\n",
       "      <td>4.572</td>\n",
       "    </tr>\n",
       "    <tr>\n",
       "      <th>2015</th>\n",
       "      <td>27.777</td>\n",
       "      <td>16.573</td>\n",
       "      <td>9.099</td>\n",
       "      <td>9.940</td>\n",
       "      <td>7.267</td>\n",
       "      <td>6.678</td>\n",
       "      <td>5.520</td>\n",
       "    </tr>\n",
       "    <tr>\n",
       "      <th>2016</th>\n",
       "      <td>27.583</td>\n",
       "      <td>14.982</td>\n",
       "      <td>8.669</td>\n",
       "      <td>9.829</td>\n",
       "      <td>7.727</td>\n",
       "      <td>6.624</td>\n",
       "      <td>5.477</td>\n",
       "    </tr>\n",
       "    <tr>\n",
       "      <th>2017</th>\n",
       "      <td>26.890</td>\n",
       "      <td>12.465</td>\n",
       "      <td>8.661</td>\n",
       "      <td>8.886</td>\n",
       "      <td>9.453</td>\n",
       "      <td>6.056</td>\n",
       "      <td>5.215</td>\n",
       "    </tr>\n",
       "  </tbody>\n",
       "</table>\n",
       "</div>"
      ],
      "text/plain": [
       "         KBS     MBC     SBS  TV CHOSUN   JTBC  Channel A    MBN\n",
       "2011  35.951  18.374  11.173      9.102  7.380      3.771  2.809\n",
       "2012  36.163  16.022  11.408      8.785  7.878      5.874  3.310\n",
       "2013  31.989  16.778   9.673      9.026  7.810      5.350  3.825\n",
       "2014  31.210  15.663   9.108      9.440  7.490      5.776  4.572\n",
       "2015  27.777  16.573   9.099      9.940  7.267      6.678  5.520\n",
       "2016  27.583  14.982   8.669      9.829  7.727      6.624  5.477\n",
       "2017  26.890  12.465   8.661      8.886  9.453      6.056  5.215"
      ]
     },
     "execution_count": 3,
     "metadata": {},
     "output_type": "execute_result"
    }
   ],
   "source": [
    "df = pd.read_csv('data/broadcast.csv', index_col=0)\n",
    "df"
   ]
  },
  {
   "cell_type": "code",
   "execution_count": 6,
   "metadata": {},
   "outputs": [
    {
     "data": {
      "text/plain": [
       "<matplotlib.axes._subplots.AxesSubplot at 0x7f96306aeb38>"
      ]
     },
     "execution_count": 6,
     "metadata": {},
     "output_type": "execute_result"
    },
    {
     "data": {
      "image/png": "[encoded data removed]",
      "text/plain": [
       "<Figure size 432x288 with 1 Axes>"
      ]
     },
     "metadata": {
      "needs_background": "light"
     },
     "output_type": "display_data"
    }
   ],
   "source": [
    "df.plot()"
   ]
  },
  {
   "cell_type": "code",
   "execution_count": 7,
   "metadata": {},
   "outputs": [
    {
     "data": {
      "text/plain": [
       "<matplotlib.axes._subplots.AxesSubplot at 0x7f96307983c8>"
      ]
     },
     "execution_count": 7,
     "metadata": {},
     "output_type": "execute_result"
    },
    {
     "data": {
      "image/png": "[encoded data removed]",
      "text/plain": [
       "<Figure size 432x288 with 1 Axes>"
      ]
     },
     "metadata": {
      "needs_background": "light"
     },
     "output_type": "display_data"
    }
   ],
   "source": [
    "df.plot(y='KBS')"
   ]
  },
  {
   "cell_type": "code",
   "execution_count": 9,
   "metadata": {},
   "outputs": [
    {
     "data": {
      "text/plain": [
       "<matplotlib.axes._subplots.AxesSubplot at 0x7f9630a40358>"
      ]
     },
     "execution_count": 9,
     "metadata": {},
     "output_type": "execute_result"
    },
    {
     "data": {
      "image/png": "[encoded data removed]",
      "text/plain": [
       "<Figure size 432x288 with 1 Axes>"
      ]
     },
     "metadata": {
      "needs_background": "light"
     },
     "output_type": "display_data"
    }
   ],
   "source": [
    "df.plot(y=['KBS', 'JTBC'])"
   ]
  },
  {
   "cell_type": "code",
   "execution_count": 10,
   "metadata": {},
   "outputs": [
    {
     "data": {
      "text/plain": [
       "<matplotlib.axes._subplots.AxesSubplot at 0x7f9630aa6da0>"
      ]
     },
     "execution_count": 10,
     "metadata": {},
     "output_type": "execute_result"
    },
    {
     "data": {
      "image/png": "[encoded data removed]",
      "text/plain": [
       "<Figure size 432x288 with 1 Axes>"
      ]
     },
     "metadata": {
      "needs_background": "light"
     },
     "output_type": "display_data"
    }
   ],
   "source": [
    "df[['KBS', 'JTBC']].plot()"
   ]
  },
  {
   "cell_type": "code",
   "execution_count": 11,
   "metadata": {},
   "outputs": [
    {
     "data": {
      "text/plain": [
       "<matplotlib.axes._subplots.AxesSubplot at 0x7f9630aa6978>"
      ]
     },
     "execution_count": 11,
     "metadata": {},
     "output_type": "execute_result"
    },
    {
     "data": {
      "image/png": "[encoded data removed]",
      "text/plain": [
       "<Figure size 432x288 with 1 Axes>"
      ]
     },
     "metadata": {
      "needs_background": "light"
     },
     "output_type": "display_data"
    }
   ],
   "source": [
    "df['KBS'].plot()"
   ]
  },
  {
   "cell_type": "code",
   "execution_count": 13,
   "metadata": {},
   "outputs": [
    {
     "data": {
      "text/html": [
       "<div>\n",
       "<style scoped>\n",
       "    .dataframe tbody tr th:only-of-type {\n",
       "        vertical-align: middle;\n",
       "    }\n",
       "\n",
       "    .dataframe tbody tr th {\n",
       "        vertical-align: top;\n",
       "    }\n",
       "\n",
       "    .dataframe thead th {\n",
       "        text-align: right;\n",
       "    }\n",
       "</style>\n",
       "<table border=\"1\" class=\"dataframe\">\n",
       "  <thead>\n",
       "    <tr style=\"text-align: right;\">\n",
       "      <th></th>\n",
       "      <th>Male</th>\n",
       "      <th>Female</th>\n",
       "    </tr>\n",
       "  </thead>\n",
       "  <tbody>\n",
       "    <tr>\n",
       "      <th>Swimming</th>\n",
       "      <td>103</td>\n",
       "      <td>178</td>\n",
       "    </tr>\n",
       "    <tr>\n",
       "      <th>Baseball</th>\n",
       "      <td>363</td>\n",
       "      <td>289</td>\n",
       "    </tr>\n",
       "    <tr>\n",
       "      <th>Basketball</th>\n",
       "      <td>151</td>\n",
       "      <td>97</td>\n",
       "    </tr>\n",
       "    <tr>\n",
       "      <th>Golf</th>\n",
       "      <td>154</td>\n",
       "      <td>232</td>\n",
       "    </tr>\n",
       "    <tr>\n",
       "      <th>Soccer</th>\n",
       "      <td>413</td>\n",
       "      <td>109</td>\n",
       "    </tr>\n",
       "    <tr>\n",
       "      <th>Bowling</th>\n",
       "      <td>88</td>\n",
       "      <td>129</td>\n",
       "    </tr>\n",
       "  </tbody>\n",
       "</table>\n",
       "</div>"
      ],
      "text/plain": [
       "            Male  Female\n",
       "Swimming     103     178\n",
       "Baseball     363     289\n",
       "Basketball   151      97\n",
       "Golf         154     232\n",
       "Soccer       413     109\n",
       "Bowling       88     129"
      ]
     },
     "execution_count": 13,
     "metadata": {},
     "output_type": "execute_result"
    }
   ],
   "source": [
    "## bar plot\n",
    "df = pd.read_csv('data/sports.csv', index_col=0)\n",
    "df"
   ]
  },
  {
   "cell_type": "code",
   "execution_count": 14,
   "metadata": {},
   "outputs": [
    {
     "data": {
      "text/plain": [
       "<matplotlib.axes._subplots.AxesSubplot at 0x7f9630b6e898>"
      ]
     },
     "execution_count": 14,
     "metadata": {},
     "output_type": "execute_result"
    },
    {
     "data": {
      "image/png": "[encoded data removed]",
      "text/plain": [
       "<Figure size 432x288 with 1 Axes>"
      ]
     },
     "metadata": {
      "needs_background": "light"
     },
     "output_type": "display_data"
    }
   ],
   "source": [
    "df.plot(kind='bar')"
   ]
  },
  {
   "cell_type": "code",
   "execution_count": 15,
   "metadata": {},
   "outputs": [
    {
     "data": {
      "text/plain": [
       "<matplotlib.axes._subplots.AxesSubplot at 0x7f9630d37dd8>"
      ]
     },
     "execution_count": 15,
     "metadata": {},
     "output_type": "execute_result"
    },
    {
     "data": {
      "image/png": "[encoded data removed]",
      "text/plain": [
       "<Figure size 432x288 with 1 Axes>"
      ]
     },
     "metadata": {
      "needs_background": "light"
     },
     "output_type": "display_data"
    }
   ],
   "source": [
    "df.plot(kind='barh')"
   ]
  },
  {
   "cell_type": "code",
   "execution_count": 16,
   "metadata": {},
   "outputs": [
    {
     "data": {
      "text/plain": [
       "<matplotlib.axes._subplots.AxesSubplot at 0x7f9630e3d668>"
      ]
     },
     "execution_count": 16,
     "metadata": {},
     "output_type": "execute_result"
    },
    {
     "data": {
      "image/png": "[encoded data removed]",
      "text/plain": [
       "<Figure size 432x288 with 1 Axes>"
      ]
     },
     "metadata": {
      "needs_background": "light"
     },
     "output_type": "display_data"
    }
   ],
   "source": [
    "df.plot(kind='bar', stacked=True)"
   ]
  },
  {
   "cell_type": "code",
   "execution_count": 17,
   "metadata": {},
   "outputs": [
    {
     "data": {
      "text/plain": [
       "<matplotlib.axes._subplots.AxesSubplot at 0x7f9630f22208>"
      ]
     },
     "execution_count": 17,
     "metadata": {},
     "output_type": "execute_result"
    },
    {
     "data": {
      "image/png": "[encoded data removed]",
      "text/plain": [
       "<Figure size 432x288 with 1 Axes>"
      ]
     },
     "metadata": {
      "needs_background": "light"
     },
     "output_type": "display_data"
    }
   ],
   "source": [
    "df['Female'].plot(kind='bar')"
   ]
  },
  {
   "cell_type": "code",
   "execution_count": 19,
   "metadata": {},
   "outputs": [],
   "source": [
    "## pie plot"
   ]
  },
  {
   "cell_type": "code",
   "execution_count": 20,
   "metadata": {},
   "outputs": [
    {
     "data": {
      "text/html": [
       "<div>\n",
       "<style scoped>\n",
       "    .dataframe tbody tr th:only-of-type {\n",
       "        vertical-align: middle;\n",
       "    }\n",
       "\n",
       "    .dataframe tbody tr th {\n",
       "        vertical-align: top;\n",
       "    }\n",
       "\n",
       "    .dataframe thead th {\n",
       "        text-align: right;\n",
       "    }\n",
       "</style>\n",
       "<table border=\"1\" class=\"dataframe\">\n",
       "  <thead>\n",
       "    <tr style=\"text-align: right;\">\n",
       "      <th></th>\n",
       "      <th>KBS</th>\n",
       "      <th>MBC</th>\n",
       "      <th>SBS</th>\n",
       "      <th>TV CHOSUN</th>\n",
       "      <th>JTBC</th>\n",
       "      <th>Channel A</th>\n",
       "      <th>MBN</th>\n",
       "    </tr>\n",
       "  </thead>\n",
       "  <tbody>\n",
       "    <tr>\n",
       "      <th>2011</th>\n",
       "      <td>35.951</td>\n",
       "      <td>18.374</td>\n",
       "      <td>11.173</td>\n",
       "      <td>9.102</td>\n",
       "      <td>7.380</td>\n",
       "      <td>3.771</td>\n",
       "      <td>2.809</td>\n",
       "    </tr>\n",
       "    <tr>\n",
       "      <th>2012</th>\n",
       "      <td>36.163</td>\n",
       "      <td>16.022</td>\n",
       "      <td>11.408</td>\n",
       "      <td>8.785</td>\n",
       "      <td>7.878</td>\n",
       "      <td>5.874</td>\n",
       "      <td>3.310</td>\n",
       "    </tr>\n",
       "    <tr>\n",
       "      <th>2013</th>\n",
       "      <td>31.989</td>\n",
       "      <td>16.778</td>\n",
       "      <td>9.673</td>\n",
       "      <td>9.026</td>\n",
       "      <td>7.810</td>\n",
       "      <td>5.350</td>\n",
       "      <td>3.825</td>\n",
       "    </tr>\n",
       "    <tr>\n",
       "      <th>2014</th>\n",
       "      <td>31.210</td>\n",
       "      <td>15.663</td>\n",
       "      <td>9.108</td>\n",
       "      <td>9.440</td>\n",
       "      <td>7.490</td>\n",
       "      <td>5.776</td>\n",
       "      <td>4.572</td>\n",
       "    </tr>\n",
       "    <tr>\n",
       "      <th>2015</th>\n",
       "      <td>27.777</td>\n",
       "      <td>16.573</td>\n",
       "      <td>9.099</td>\n",
       "      <td>9.940</td>\n",
       "      <td>7.267</td>\n",
       "      <td>6.678</td>\n",
       "      <td>5.520</td>\n",
       "    </tr>\n",
       "    <tr>\n",
       "      <th>2016</th>\n",
       "      <td>27.583</td>\n",
       "      <td>14.982</td>\n",
       "      <td>8.669</td>\n",
       "      <td>9.829</td>\n",
       "      <td>7.727</td>\n",
       "      <td>6.624</td>\n",
       "      <td>5.477</td>\n",
       "    </tr>\n",
       "    <tr>\n",
       "      <th>2017</th>\n",
       "      <td>26.890</td>\n",
       "      <td>12.465</td>\n",
       "      <td>8.661</td>\n",
       "      <td>8.886</td>\n",
       "      <td>9.453</td>\n",
       "      <td>6.056</td>\n",
       "      <td>5.215</td>\n",
       "    </tr>\n",
       "  </tbody>\n",
       "</table>\n",
       "</div>"
      ],
      "text/plain": [
       "         KBS     MBC     SBS  TV CHOSUN   JTBC  Channel A    MBN\n",
       "2011  35.951  18.374  11.173      9.102  7.380      3.771  2.809\n",
       "2012  36.163  16.022  11.408      8.785  7.878      5.874  3.310\n",
       "2013  31.989  16.778   9.673      9.026  7.810      5.350  3.825\n",
       "2014  31.210  15.663   9.108      9.440  7.490      5.776  4.572\n",
       "2015  27.777  16.573   9.099      9.940  7.267      6.678  5.520\n",
       "2016  27.583  14.982   8.669      9.829  7.727      6.624  5.477\n",
       "2017  26.890  12.465   8.661      8.886  9.453      6.056  5.215"
      ]
     },
     "execution_count": 20,
     "metadata": {},
     "output_type": "execute_result"
    }
   ],
   "source": [
    "df = pd.read_csv('data/broadcast.csv', index_col=0)\n",
    "df"
   ]
  },
  {
   "cell_type": "code",
   "execution_count": 21,
   "metadata": {},
   "outputs": [
    {
     "data": {
      "text/plain": [
       "<matplotlib.axes._subplots.AxesSubplot at 0x7f96310157f0>"
      ]
     },
     "execution_count": 21,
     "metadata": {},
     "output_type": "execute_result"
    },
    {
     "data": {
      "image/png": "[encoded data removed]",
      "text/plain": [
       "<Figure size 432x288 with 1 Axes>"
      ]
     },
     "metadata": {},
     "output_type": "display_data"
    }
   ],
   "source": [
    "df.loc[2017].plot(kind='pie')"
   ]
  },
  {
   "cell_type": "code",
   "execution_count": null,
   "metadata": {},
   "outputs": [],
   "source": []
  }
 ],
 "metadata": {
  "kernelspec": {
   "display_name": "Python 3",
   "language": "python",
   "name": "python3"
  },
  "language_info": {
   "codemirror_mode": {
    "name": "ipython",
    "version": 3
   },
   "file_extension": ".py",
   "mimetype": "text/x-python",
   "name": "python",
   "nbconvert_exporter": "python",
   "pygments_lexer": "ipython3",
   "version": "3.6.8"
  }
 },
 "nbformat": 4,
 "nbformat_minor": 2
}
