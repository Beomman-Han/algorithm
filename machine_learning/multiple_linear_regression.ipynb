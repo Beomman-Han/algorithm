{
 "cells": [
  {
   "cell_type": "code",
   "execution_count": 1,
   "metadata": {},
   "outputs": [],
   "source": [
    "import numpy as np\n",
    "import matplotlib.pyplot as plt"
   ]
  },
  {
   "cell_type": "code",
   "execution_count": 2,
   "metadata": {},
   "outputs": [],
   "source": [
    "def prediction(X: np.array, theta: np.array) -> np.array:\n",
    "    \"\"\"Return pred of multiple linear regression\n",
    "    (result of hypothesis function)    \n",
    "    \n",
    "    Number of explanatory variable : n\n",
    "    Number of data : m\n",
    "    \n",
    "    X     : m * n matrix\n",
    "    theta : vector with n elements (~= n * 1 matrix)\n",
    "    \"\"\"\n",
    "    \n",
    "    return X @ theta"
   ]
  },
  {
   "cell_type": "code",
   "execution_count": 3,
   "metadata": {},
   "outputs": [],
   "source": [
    "def gradient_descent(\n",
    "    X : np.array,\n",
    "    theta : np.array,\n",
    "    y : np.array,\n",
    "    iterations : int,\n",
    "    alpha : float\n",
    "    ) -> np.array:\n",
    "    \n",
    "    \"\"\"Return updated theta with gradient descent\"\"\"\n",
    "    \n",
    "    costs = []\n",
    "    m = len(X)\n",
    "    for _ in range(iterations):\n",
    "        error = prediction(X, theta) - y\n",
    "        costs.append((error @ error) / (2 * m))\n",
    "        theta -= (alpha / m) * (X.T @ error)            \n",
    "    \n",
    "    return theta, costs\n",
    "    "
   ]
  },
  {
   "cell_type": "code",
   "execution_count": 4,
   "metadata": {},
   "outputs": [
    {
     "name": "stdout",
     "output_type": "stream",
     "text": [
      "[22.  21.8 21.2 26.7 24.7 24.8 25.5 26.2 29.7 31.4 33.1 33.9 39.  39.4\n",
      " 39.5 40. ]\n",
      "[ 0.18411079  0.45863266 -0.06568251  2.05404881]\n"
     ]
    },
    {
     "data": {
      "image/png": "[encoded data removed]",
      "text/plain": [
       "<Figure size 432x288 with 1 Axes>"
      ]
     },
     "metadata": {
      "needs_background": "light"
     },
     "output_type": "display_data"
    }
   ],
   "source": [
    "if __name__ == '__main__':\n",
    "    \n",
    "    ## input variables\n",
    "    house_size = np.array([1.0, 1.5, 1.8, 5, 2.0, 2.5, 3.0, 3.5, 4.0, 5.0, 6.0, 7.0, 8.0, 8.5, 9.0, 10.0])  # 집 크기\n",
    "    distance_from_station = np.array([5, 4.6, 4.2, 3.9, 3.9, 3.6, 3.5, 3.4, 2.9, 2.8, 2.7, 2.3, 2.0, 1.8, 1.5, 1.0])  # 지하철역으로부터의 거리 (km)\n",
    "    number_of_rooms = np.array([1, 1, 1, 1, 2, 2, 2, 2, 3, 3, 3, 3, 4, 4, 4, 4])  # 방 수\n",
    "    \n",
    "    ## design matrix : X\n",
    "    X = np.array([\n",
    "        np.ones(house_size.shape[0]),\n",
    "        house_size,\n",
    "        distance_from_station,\n",
    "        number_of_rooms\n",
    "    ]).T\n",
    "    \n",
    "    ## parameter theta\n",
    "    theta = np.array([1, 2, 3, 4], dtype='float64')\n",
    "    \n",
    "    print(prediction(X, theta))\n",
    "\n",
    "    ## target variable\n",
    "    house_price = np.array([3, 3.2, 3.6 , 8, 3.4, 4.5, 5, 5.8, 6, 6.5, 9, 9, 10, 12, 13, 15])  # 집 가격\n",
    "\n",
    "    ## gradient descent with alpha 0.01 and 100 iterations\n",
    "    y = house_price\n",
    "    theta, costs = gradient_descent(X, theta, y, 100, 0.01)\n",
    "    print(theta)\n",
    "    \n",
    "    ## visualing loss function\n",
    "    plt.plot(costs)"
   ]
  },
  {
   "cell_type": "code",
   "execution_count": null,
   "metadata": {},
   "outputs": [],
   "source": []
  }
 ],
 "metadata": {
  "kernelspec": {
   "display_name": "Python 3",
   "language": "python",
   "name": "python3"
  },
  "language_info": {
   "codemirror_mode": {
    "name": "ipython",
    "version": 3
   },
   "file_extension": ".py",
   "mimetype": "text/x-python",
   "name": "python",
   "nbconvert_exporter": "python",
   "pygments_lexer": "ipython3",
   "version": "3.6.8"
  }
 },
 "nbformat": 4,
 "nbformat_minor": 2
}
